{
  "nbformat": 4,
  "nbformat_minor": 0,
  "metadata": {
    "colab": {
      "provenance": [],
      "include_colab_link": true
    },
    "kernelspec": {
      "name": "python3",
      "display_name": "Python 3"
    },
    "language_info": {
      "name": "python"
    }
  },
  "cells": [
    {
      "cell_type": "markdown",
      "metadata": {
        "id": "view-in-github",
        "colab_type": "text"
      },
      "source": [
        "<a href=\"https://colab.research.google.com/github/yashphulfagar/IITMBS/blob/main/TDS/Geo_coder_TDS.ipynb\" target=\"_parent\"><img src=\"https://colab.research.google.com/assets/colab-badge.svg\" alt=\"Open In Colab\"/></a>"
      ]
    },
    {
      "cell_type": "code",
      "execution_count": null,
      "metadata": {
        "id": "V5tNAeRD91Sh"
      },
      "outputs": [],
      "source": [
        "import pandas as pd\n",
        "import numpy as np"
      ]
    },
    {
      "cell_type": "code",
      "source": [
        "data = pd.read_excel('https://hb.volantisdigital.com/hb/IFCB2009_85.xlsx')\n",
        "#data"
      ],
      "metadata": {
        "id": "AULeVeCY-Tp0"
      },
      "execution_count": null,
      "outputs": []
    },
    {
      "cell_type": "code",
      "source": [
        "cvc = data['CITY1'].value_counts()\n",
        "print(cvc)\n",
        "print()\n",
        "print(type(cvc))\n",
        "\n",
        "city_freq = cvc[0]\n",
        "City = cvc.index[0]\n",
        "\n",
        "print(\"\\nCity name with highest frequency:\", City)\n",
        "print(\"\\nHighest frequency:\", city_freq)"
      ],
      "metadata": {
        "colab": {
          "base_uri": "https://localhost:8080/"
        },
        "id": "nla2kZNB-yF8",
        "outputId": "b0b46e16-01b4-44af-c17a-0f851bd70cb2"
      },
      "execution_count": null,
      "outputs": [
        {
          "output_type": "stream",
          "name": "stdout",
          "text": [
            "CHENNAI            45\n",
            "BANGALORE          23\n",
            "COIMBATORE         21\n",
            "MUMBAI             17\n",
            "HYDERABAD          15\n",
            "                   ..\n",
            "RAMCHANDRAPURAM     1\n",
            "RAICHUR             1\n",
            "RAJAPALAIYAM        1\n",
            "RAJENDRAM           1\n",
            "ADONI               1\n",
            "Name: CITY1, Length: 364, dtype: int64\n",
            "\n",
            "<class 'pandas.core.series.Series'>\n",
            "\n",
            "City name with highest frequency: CHENNAI\n",
            "\n",
            "Highest frequency: 45\n"
          ]
        }
      ]
    },
    {
      "cell_type": "code",
      "source": [
        "from geopy.geocoders import Nominatim\n",
        "\n",
        "locator = Nominatim(user_agent=\"myGeocoder\")\n",
        "location = locator.geocode(City)\n",
        "print(\"Latitude = {}, Longitude = {}\".format(location.latitude, location.longitude))\n",
        "City"
      ],
      "metadata": {
        "colab": {
          "base_uri": "https://localhost:8080/",
          "height": 52
        },
        "id": "c-Gwidyc_TvJ",
        "outputId": "07476484-2d3c-4a40-800c-f8d1a9311966"
      },
      "execution_count": null,
      "outputs": [
        {
          "output_type": "stream",
          "name": "stdout",
          "text": [
            "Latitude = 13.0836939, Longitude = 80.270186\n"
          ]
        },
        {
          "output_type": "execute_result",
          "data": {
            "text/plain": [
              "'CHENNAI'"
            ],
            "application/vnd.google.colaboratory.intrinsic+json": {
              "type": "string"
            }
          },
          "metadata": {},
          "execution_count": 15
        }
      ]
    }
  ]
}