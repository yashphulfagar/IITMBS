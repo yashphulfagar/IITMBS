{
  "cells": [
    {
      "cell_type": "markdown",
      "metadata": {
        "id": "view-in-github",
        "colab_type": "text"
      },
      "source": [
        "<a href=\"https://colab.research.google.com/github/yashphulfagar/IITMBS/blob/main/TDS/TDS_GA_4a_PREDICT_CURRENCY.ipynb\" target=\"_parent\"><img src=\"https://colab.research.google.com/assets/colab-badge.svg\" alt=\"Open In Colab\"/></a>"
      ]
    },
    {
      "cell_type": "markdown",
      "source": [
        "#Predict value of currency \"GBP\" from currency\"BRL\" where the \"BRL\" value is the average value of the currency \"BRL\"#\n"
      ],
      "metadata": {
        "id": "0XJLbh-WTAmt"
      }
    },
    {
      "cell_type": "code",
      "execution_count": null,
      "metadata": {
        "id": "OnLTSu0GHiAq"
      },
      "outputs": [],
      "source": [
        "import pandas as pd\n",
        "import numpy as np\n",
        "from matplotlib import pyplot as plt\n",
        "from sklearn.metrics import mean_absolute_error\n",
        "from pandas.plotting import autocorrelation_plot\n",
        "from statsmodels.tsa.arima_model import ARIMA"
      ]
    },
    {
      "cell_type": "code",
      "execution_count": null,
      "metadata": {
        "id": "q7dA_DmuOuRA",
        "colab": {
          "base_uri": "https://localhost:8080/",
          "height": 187
        },
        "outputId": "000e1903-8e07-4924-bb1d-fd6e9efaac1e"
      },
      "outputs": [
        {
          "output_type": "execute_result",
          "data": {
            "text/plain": [
              "         Date       EUR       AUD       BGN       BRL       CAD       CHF  \\\n",
              "0  18-05-2022  1.052299  0.702494  0.538039  0.202466  0.780153  1.003512   \n",
              "1  17-05-2022  1.054074  0.703037  0.538967  0.200321  0.779849  1.008065   \n",
              "2  16-05-2022  1.042209  0.692185  0.532879  0.197316  0.773575  0.994530   \n",
              "\n",
              "        CNY       CZK       DKK       GBP       HKD       HRK       ILS  \\\n",
              "0  0.148269  0.042695  0.141403  1.242854  0.127411  0.139655  0.298436   \n",
              "1  0.148677  0.042655  0.141653  1.248907  0.127393  0.140089  0.297876   \n",
              "2  0.147232  0.042177  0.140046  1.225490  0.127390  0.138544  0.293789   \n",
              "\n",
              "        INR  \n",
              "0  0.012889  \n",
              "1  0.012910  \n",
              "2  0.012854  "
            ],
            "text/html": [
              "\n",
              "  <div id=\"df-aa428b7c-4cc6-435a-af78-8d97d8dc5f26\">\n",
              "    <div class=\"colab-df-container\">\n",
              "      <div>\n",
              "<style scoped>\n",
              "    .dataframe tbody tr th:only-of-type {\n",
              "        vertical-align: middle;\n",
              "    }\n",
              "\n",
              "    .dataframe tbody tr th {\n",
              "        vertical-align: top;\n",
              "    }\n",
              "\n",
              "    .dataframe thead th {\n",
              "        text-align: right;\n",
              "    }\n",
              "</style>\n",
              "<table border=\"1\" class=\"dataframe\">\n",
              "  <thead>\n",
              "    <tr style=\"text-align: right;\">\n",
              "      <th></th>\n",
              "      <th>Date</th>\n",
              "      <th>EUR</th>\n",
              "      <th>AUD</th>\n",
              "      <th>BGN</th>\n",
              "      <th>BRL</th>\n",
              "      <th>CAD</th>\n",
              "      <th>CHF</th>\n",
              "      <th>CNY</th>\n",
              "      <th>CZK</th>\n",
              "      <th>DKK</th>\n",
              "      <th>GBP</th>\n",
              "      <th>HKD</th>\n",
              "      <th>HRK</th>\n",
              "      <th>ILS</th>\n",
              "      <th>INR</th>\n",
              "    </tr>\n",
              "  </thead>\n",
              "  <tbody>\n",
              "    <tr>\n",
              "      <th>0</th>\n",
              "      <td>18-05-2022</td>\n",
              "      <td>1.052299</td>\n",
              "      <td>0.702494</td>\n",
              "      <td>0.538039</td>\n",
              "      <td>0.202466</td>\n",
              "      <td>0.780153</td>\n",
              "      <td>1.003512</td>\n",
              "      <td>0.148269</td>\n",
              "      <td>0.042695</td>\n",
              "      <td>0.141403</td>\n",
              "      <td>1.242854</td>\n",
              "      <td>0.127411</td>\n",
              "      <td>0.139655</td>\n",
              "      <td>0.298436</td>\n",
              "      <td>0.012889</td>\n",
              "    </tr>\n",
              "    <tr>\n",
              "      <th>1</th>\n",
              "      <td>17-05-2022</td>\n",
              "      <td>1.054074</td>\n",
              "      <td>0.703037</td>\n",
              "      <td>0.538967</td>\n",
              "      <td>0.200321</td>\n",
              "      <td>0.779849</td>\n",
              "      <td>1.008065</td>\n",
              "      <td>0.148677</td>\n",
              "      <td>0.042655</td>\n",
              "      <td>0.141653</td>\n",
              "      <td>1.248907</td>\n",
              "      <td>0.127393</td>\n",
              "      <td>0.140089</td>\n",
              "      <td>0.297876</td>\n",
              "      <td>0.012910</td>\n",
              "    </tr>\n",
              "    <tr>\n",
              "      <th>2</th>\n",
              "      <td>16-05-2022</td>\n",
              "      <td>1.042209</td>\n",
              "      <td>0.692185</td>\n",
              "      <td>0.532879</td>\n",
              "      <td>0.197316</td>\n",
              "      <td>0.773575</td>\n",
              "      <td>0.994530</td>\n",
              "      <td>0.147232</td>\n",
              "      <td>0.042177</td>\n",
              "      <td>0.140046</td>\n",
              "      <td>1.225490</td>\n",
              "      <td>0.127390</td>\n",
              "      <td>0.138544</td>\n",
              "      <td>0.293789</td>\n",
              "      <td>0.012854</td>\n",
              "    </tr>\n",
              "  </tbody>\n",
              "</table>\n",
              "</div>\n",
              "      <button class=\"colab-df-convert\" onclick=\"convertToInteractive('df-aa428b7c-4cc6-435a-af78-8d97d8dc5f26')\"\n",
              "              title=\"Convert this dataframe to an interactive table.\"\n",
              "              style=\"display:none;\">\n",
              "        \n",
              "  <svg xmlns=\"http://www.w3.org/2000/svg\" height=\"24px\"viewBox=\"0 0 24 24\"\n",
              "       width=\"24px\">\n",
              "    <path d=\"M0 0h24v24H0V0z\" fill=\"none\"/>\n",
              "    <path d=\"M18.56 5.44l.94 2.06.94-2.06 2.06-.94-2.06-.94-.94-2.06-.94 2.06-2.06.94zm-11 1L8.5 8.5l.94-2.06 2.06-.94-2.06-.94L8.5 2.5l-.94 2.06-2.06.94zm10 10l.94 2.06.94-2.06 2.06-.94-2.06-.94-.94-2.06-.94 2.06-2.06.94z\"/><path d=\"M17.41 7.96l-1.37-1.37c-.4-.4-.92-.59-1.43-.59-.52 0-1.04.2-1.43.59L10.3 9.45l-7.72 7.72c-.78.78-.78 2.05 0 2.83L4 21.41c.39.39.9.59 1.41.59.51 0 1.02-.2 1.41-.59l7.78-7.78 2.81-2.81c.8-.78.8-2.07 0-2.86zM5.41 20L4 18.59l7.72-7.72 1.47 1.35L5.41 20z\"/>\n",
              "  </svg>\n",
              "      </button>\n",
              "      \n",
              "  <style>\n",
              "    .colab-df-container {\n",
              "      display:flex;\n",
              "      flex-wrap:wrap;\n",
              "      gap: 12px;\n",
              "    }\n",
              "\n",
              "    .colab-df-convert {\n",
              "      background-color: #E8F0FE;\n",
              "      border: none;\n",
              "      border-radius: 50%;\n",
              "      cursor: pointer;\n",
              "      display: none;\n",
              "      fill: #1967D2;\n",
              "      height: 32px;\n",
              "      padding: 0 0 0 0;\n",
              "      width: 32px;\n",
              "    }\n",
              "\n",
              "    .colab-df-convert:hover {\n",
              "      background-color: #E2EBFA;\n",
              "      box-shadow: 0px 1px 2px rgba(60, 64, 67, 0.3), 0px 1px 3px 1px rgba(60, 64, 67, 0.15);\n",
              "      fill: #174EA6;\n",
              "    }\n",
              "\n",
              "    [theme=dark] .colab-df-convert {\n",
              "      background-color: #3B4455;\n",
              "      fill: #D2E3FC;\n",
              "    }\n",
              "\n",
              "    [theme=dark] .colab-df-convert:hover {\n",
              "      background-color: #434B5C;\n",
              "      box-shadow: 0px 1px 3px 1px rgba(0, 0, 0, 0.15);\n",
              "      filter: drop-shadow(0px 1px 2px rgba(0, 0, 0, 0.3));\n",
              "      fill: #FFFFFF;\n",
              "    }\n",
              "  </style>\n",
              "\n",
              "      <script>\n",
              "        const buttonEl =\n",
              "          document.querySelector('#df-aa428b7c-4cc6-435a-af78-8d97d8dc5f26 button.colab-df-convert');\n",
              "        buttonEl.style.display =\n",
              "          google.colab.kernel.accessAllowed ? 'block' : 'none';\n",
              "\n",
              "        async function convertToInteractive(key) {\n",
              "          const element = document.querySelector('#df-aa428b7c-4cc6-435a-af78-8d97d8dc5f26');\n",
              "          const dataTable =\n",
              "            await google.colab.kernel.invokeFunction('convertToInteractive',\n",
              "                                                     [key], {});\n",
              "          if (!dataTable) return;\n",
              "\n",
              "          const docLinkHtml = 'Like what you see? Visit the ' +\n",
              "            '<a target=\"_blank\" href=https://colab.research.google.com/notebooks/data_table.ipynb>data table notebook</a>'\n",
              "            + ' to learn more about interactive tables.';\n",
              "          element.innerHTML = '';\n",
              "          dataTable['output_type'] = 'display_data';\n",
              "          await google.colab.output.renderOutput(dataTable, element);\n",
              "          const docLink = document.createElement('div');\n",
              "          docLink.innerHTML = docLinkHtml;\n",
              "          element.appendChild(docLink);\n",
              "        }\n",
              "      </script>\n",
              "    </div>\n",
              "  </div>\n",
              "  "
            ]
          },
          "metadata": {},
          "execution_count": 63
        }
      ],
      "source": [
        "data = pd.read_csv('/content/master_currency.csv')\n",
        "data.head(3)"
      ]
    },
    {
      "cell_type": "markdown",
      "metadata": {
        "id": "HNYSMqJC_kE-"
      },
      "source": [
        "# New Section"
      ]
    },
    {
      "cell_type": "code",
      "source": [
        "data.info()"
      ],
      "metadata": {
        "colab": {
          "base_uri": "https://localhost:8080/"
        },
        "id": "jTwReWoGocY_",
        "outputId": "9436dec3-8c0b-4004-8809-34954ac1780d"
      },
      "execution_count": null,
      "outputs": [
        {
          "output_type": "stream",
          "name": "stdout",
          "text": [
            "<class 'pandas.core.frame.DataFrame'>\n",
            "RangeIndex: 366 entries, 0 to 365\n",
            "Data columns (total 15 columns):\n",
            " #   Column  Non-Null Count  Dtype  \n",
            "---  ------  --------------  -----  \n",
            " 0   Date    366 non-null    object \n",
            " 1   EUR     366 non-null    float64\n",
            " 2   AUD     366 non-null    float64\n",
            " 3   BGN     366 non-null    float64\n",
            " 4   BRL     366 non-null    float64\n",
            " 5   CAD     366 non-null    float64\n",
            " 6   CHF     366 non-null    float64\n",
            " 7   CNY     366 non-null    float64\n",
            " 8   CZK     366 non-null    float64\n",
            " 9   DKK     366 non-null    float64\n",
            " 10  GBP     366 non-null    float64\n",
            " 11  HKD     366 non-null    float64\n",
            " 12  HRK     366 non-null    float64\n",
            " 13  ILS     366 non-null    float64\n",
            " 14  INR     366 non-null    float64\n",
            "dtypes: float64(14), object(1)\n",
            "memory usage: 43.0+ KB\n"
          ]
        }
      ]
    },
    {
      "cell_type": "code",
      "source": [
        "print(data.isna().sum())\n",
        "print(\"\\n\", type(data))"
      ],
      "metadata": {
        "colab": {
          "base_uri": "https://localhost:8080/"
        },
        "id": "8YN9O5rEoU5f",
        "outputId": "19f1c1ee-d1bf-4cf1-9d6d-ef3b431007c7"
      },
      "execution_count": null,
      "outputs": [
        {
          "output_type": "stream",
          "name": "stdout",
          "text": [
            "Date    0\n",
            "EUR     0\n",
            "AUD     0\n",
            "BGN     0\n",
            "BRL     0\n",
            "CAD     0\n",
            "CHF     0\n",
            "CNY     0\n",
            "CZK     0\n",
            "DKK     0\n",
            "GBP     0\n",
            "HKD     0\n",
            "HRK     0\n",
            "ILS     0\n",
            "INR     0\n",
            "dtype: int64\n",
            "\n",
            " <class 'pandas.core.frame.DataFrame'>\n"
          ]
        }
      ]
    },
    {
      "cell_type": "code",
      "execution_count": null,
      "metadata": {
        "id": "v3alsBQxhKrP"
      },
      "outputs": [],
      "source": [
        "'''country = \"India\"\n",
        "data = data[data['location']==country]'''\n",
        "data = data.dropna(inplace=True)"
      ]
    },
    {
      "cell_type": "code",
      "execution_count": null,
      "metadata": {
        "id": "rhE-YoocPXwW",
        "colab": {
          "base_uri": "https://localhost:8080/",
          "height": 201
        },
        "outputId": "22f8fee9-2a34-4ba9-f524-2715b96adedc"
      },
      "outputs": [
        {
          "output_type": "error",
          "ename": "TypeError",
          "evalue": "ignored",
          "traceback": [
            "\u001b[0;31m---------------------------------------------------------------------------\u001b[0m",
            "\u001b[0;31mTypeError\u001b[0m                                 Traceback (most recent call last)",
            "\u001b[0;32m<ipython-input-68-c068eafb4f87>\u001b[0m in \u001b[0;36m<cell line: 1>\u001b[0;34m()\u001b[0m\n\u001b[0;32m----> 1\u001b[0;31m \u001b[0mdata\u001b[0m\u001b[0;34m[\u001b[0m\u001b[0;34m'Date'\u001b[0m\u001b[0;34m]\u001b[0m \u001b[0;34m=\u001b[0m \u001b[0mpd\u001b[0m\u001b[0;34m.\u001b[0m\u001b[0mto_datetime\u001b[0m\u001b[0;34m(\u001b[0m\u001b[0mdata\u001b[0m\u001b[0;34m[\u001b[0m\u001b[0;34m'Date'\u001b[0m\u001b[0;34m]\u001b[0m\u001b[0;34m)\u001b[0m\u001b[0;34m\u001b[0m\u001b[0;34m\u001b[0m\u001b[0m\n\u001b[0m\u001b[1;32m      2\u001b[0m \u001b[0mdata\u001b[0m\u001b[0;34m.\u001b[0m\u001b[0msort_values\u001b[0m\u001b[0;34m(\u001b[0m\u001b[0;34m'Date'\u001b[0m\u001b[0;34m,\u001b[0m\u001b[0mascending\u001b[0m\u001b[0;34m=\u001b[0m\u001b[0;32mTrue\u001b[0m\u001b[0;34m,\u001b[0m\u001b[0minplace\u001b[0m\u001b[0;34m=\u001b[0m\u001b[0;32mTrue\u001b[0m\u001b[0;34m)\u001b[0m\u001b[0;34m\u001b[0m\u001b[0;34m\u001b[0m\u001b[0m\n\u001b[1;32m      3\u001b[0m \u001b[0mdata\u001b[0m\u001b[0;34m[\u001b[0m\u001b[0;34m'Date'\u001b[0m\u001b[0;34m]\u001b[0m\u001b[0;34m.\u001b[0m\u001b[0mmin\u001b[0m\u001b[0;34m(\u001b[0m\u001b[0;34m)\u001b[0m\u001b[0;34m,\u001b[0m \u001b[0mdata\u001b[0m\u001b[0;34m[\u001b[0m\u001b[0;34m'Date'\u001b[0m\u001b[0;34m]\u001b[0m\u001b[0;34m.\u001b[0m\u001b[0mmax\u001b[0m\u001b[0;34m(\u001b[0m\u001b[0;34m)\u001b[0m\u001b[0;34m\u001b[0m\u001b[0;34m\u001b[0m\u001b[0m\n",
            "\u001b[0;31mTypeError\u001b[0m: 'NoneType' object is not subscriptable"
          ]
        }
      ],
      "source": [
        "data['Date'] = pd.to_datetime(data['Date'])\n",
        "data.sort_values('Date',ascending=True,inplace=True)\n",
        "data['Date'].min(), data['Date'].max()"
      ]
    },
    {
      "cell_type": "code",
      "execution_count": null,
      "metadata": {
        "id": "Gc47TO_nPXt2"
      },
      "outputs": [],
      "source": [
        "plt.xlabel('Date')\n",
        "plt.ylabel('BRLOO')\n",
        "plt.plot(data['BRL'])"
      ]
    },
    {
      "cell_type": "code",
      "execution_count": null,
      "metadata": {
        "id": "PEs4Y3EqZ-Dr"
      },
      "outputs": [],
      "source": [
        "plt.xlabel('Date')\n",
        "plt.ylabel('GBPSS')\n",
        "plt.plot(data['Date'],data['GBP'])"
      ]
    },
    {
      "cell_type": "code",
      "execution_count": null,
      "metadata": {
        "id": "m-P9wtgoTXLU"
      },
      "outputs": [],
      "source": [
        "rolling_mean5 = data['BRL'].rolling(window = 5).mean()\n",
        "rolling_mean10 = data['BRL'].rolling(window = 10).mean()\n",
        "rolling_mean15 = data['BRL'].rolling(window = 15).mean()\n",
        "rolling_mean20 = data['BRL'].rolling(window = 20).mean()\n",
        "\n",
        "plt.plot(data['Date'],data['BRL'], color = 'blue', label = 'Original')\n",
        "\n",
        "plt.plot(data['Date'],rolling_mean5, color = 'red', label = 'Rolling 5 day mean')\n",
        "plt.plot(data['Date'],rolling_mean10, color = 'black', label = 'Rolling 10 day mean')\n",
        "plt.plot(data['Date'],rolling_mean15, color = 'orange', label = 'Rolling 15 day mean')\n",
        "plt.plot(data['Date'],rolling_mean20, color = 'green', label = 'Rolling 20 day mean')\n",
        "\n",
        "plt.legend(loc = 'best')\n",
        "plt.title('Moving Average')\n",
        "\n",
        "plt.show()"
      ]
    },
    {
      "cell_type": "code",
      "execution_count": null,
      "metadata": {
        "id": "Q_bMd8cwawd3"
      },
      "outputs": [],
      "source": [
        "rolling_mean5 = data['GBP'].rolling(window = 5).mean()\n",
        "rolling_mean10 = data['GBP'].rolling(window = 10).mean()\n",
        "rolling_mean15 = data['GBP'].rolling(window = 15).mean()\n",
        "rolling_mean20 = data['GBP'].rolling(window = 20).mean()\n",
        "\n",
        "plt.plot(data['Date'],data['GBP'], color = 'blue', label = 'Original')\n",
        "\n",
        "plt.plot(data['Date'],rolling_mean5, color = 'red', label = 'Rolling 5 day mean')\n",
        "plt.plot(data['Date'],rolling_mean10, color = 'black', label = 'Rolling 10 day mean')\n",
        "plt.plot(data['Date'],rolling_mean15, color = 'orange', label = 'Rolling 15 day mean')\n",
        "plt.plot(data['Date'],rolling_mean20, color = 'green', label = 'Rolling 20 day mean')\n",
        "\n",
        "plt.legend(loc = 'best')\n",
        "plt.title('Moving Average')\n",
        "\n",
        "plt.show()"
      ]
    },
    {
      "cell_type": "code",
      "execution_count": null,
      "metadata": {
        "id": "dcJArnSwTXJK"
      },
      "outputs": [],
      "source": [
        "data['moving_avg_5day'] = rolling_mean5\n",
        "data['moving_avg_10day'] = rolling_mean10\n",
        "data['moving_avg_15day'] = rolling_mean15\n",
        "data['moving_avg_20day'] = rolling_mean20\n",
        "data.head()"
      ]
    },
    {
      "cell_type": "code",
      "execution_count": null,
      "metadata": {
        "id": "gnVuVS8bWg4F"
      },
      "outputs": [],
      "source": [
        "data.dropna(inplace=True)\n",
        "data.tail()"
      ]
    },
    {
      "cell_type": "code",
      "execution_count": null,
      "metadata": {
        "id": "a8uEGDuLXVef"
      },
      "outputs": [],
      "source": [
        "autocorrelation_plot(data['BRL'])\n",
        "plt.show()"
      ]
    },
    {
      "cell_type": "code",
      "execution_count": null,
      "metadata": {
        "id": "jDmHPl03gvbM"
      },
      "outputs": [],
      "source": [
        "autocorrelation_plot(data['GBP'])\n",
        "plt.show()"
      ]
    },
    {
      "cell_type": "code",
      "execution_count": null,
      "metadata": {
        "id": "t7owWq3hbJTd"
      },
      "outputs": [],
      "source": [
        "from statsmodels.graphics.tsaplots import plot_acf,plot_pacf\n",
        "import statsmodels.api as sm\n",
        "\n",
        "fig = plt.figure(figsize=(12,8))\n",
        "\n",
        "ax1 = fig.add_subplot(211)\n",
        "fig = sm.graphics.tsa.plot_acf(data['BRL'].dropna(),lags=50,ax=ax1)\n",
        "\n",
        "ax2 = fig.add_subplot(212)\n",
        "fig = sm.graphics.tsa.plot_pacf(data['BRL'].dropna(),lags=50,ax=ax2)\n"
      ]
    },
    {
      "cell_type": "code",
      "execution_count": null,
      "metadata": {
        "id": "pu4ohEG_hDzu"
      },
      "outputs": [],
      "source": [
        "from statsmodels.graphics.tsaplots import plot_acf,plot_pacf\n",
        "import statsmodels.api as sm\n",
        "\n",
        "fig = plt.figure(figsize=(12,8))\n",
        "\n",
        "ax1 = fig.add_subplot(211)\n",
        "fig = sm.graphics.tsa.plot_acf(data['GBP'].dropna(),lags=50,ax=ax1)\n",
        "\n",
        "ax2 = fig.add_subplot(212)\n",
        "fig = sm.graphics.tsa.plot_pacf(data['GBP'].dropna(),lags=50,ax=ax2)"
      ]
    },
    {
      "cell_type": "code",
      "execution_count": null,
      "metadata": {
        "id": "sDxwrgDOz75s"
      },
      "outputs": [],
      "source": [
        "data.BRL"
      ]
    },
    {
      "cell_type": "code",
      "execution_count": null,
      "metadata": {
        "id": "2502BWLThIxg"
      },
      "outputs": [],
      "source": [
        "data.GBP"
      ]
    },
    {
      "cell_type": "code",
      "execution_count": null,
      "metadata": {
        "id": "6fMNvFZiXVbs"
      },
      "outputs": [],
      "source": [
        "# 1,1,0 ARIMA Model\n",
        "model = ARIMA(data.BRL, order=(1,1,0))\n",
        "model_fit = model.fit()\n",
        "print(model_fit.summary())"
      ]
    },
    {
      "cell_type": "code",
      "execution_count": null,
      "metadata": {
        "id": "Hoaz7wjghMNM"
      },
      "outputs": [],
      "source": [
        "# 1,1,0 ARIMA Model\n",
        "model = ARIMA(data.GBP, order=(1,1,0))\n",
        "model_fit = model.fit()\n",
        "print(model_fit.summary())"
      ]
    },
    {
      "cell_type": "code",
      "execution_count": null,
      "metadata": {
        "id": "T_kUB7QTeflV"
      },
      "outputs": [],
      "source": [
        "# 1,1,0 ARIMA Model\n",
        "model = ARIMA(data.BRL, order=(5,1,0))\n",
        "model_fit = model.fit()\n",
        "print(model_fit.summary())"
      ]
    },
    {
      "cell_type": "code",
      "execution_count": null,
      "metadata": {
        "id": "BVcidfBahQ6h"
      },
      "outputs": [],
      "source": [
        "# 1,1,0 ARIMA Model\n",
        "model = ARIMA(data.GBP, order=(5,1,0))\n",
        "model_fit = model.fit()\n",
        "print(model_fit.summary())"
      ]
    },
    {
      "cell_type": "code",
      "execution_count": null,
      "metadata": {
        "id": "e9-T-1AtXVZA"
      },
      "outputs": [],
      "source": [
        "X = data['BRL'].values\n",
        "size = int(len(X) * 0.90)\n",
        "train, test = X[0:size], X[size:len(X)]\n",
        "traindf, testdf = data[0:size], data[size:len(X)]\n",
        "history = [x for x in train]\n",
        "predictions = list()\n",
        "# walk-forward validation\n",
        "for t in range(len(test)):\n",
        "\tmodel = ARIMA(history, order=(1,1,0))\n",
        "\tmodel_fit = model.fit()\n",
        "\toutput = model_fit.forecast()\n",
        "\tyhat = output[0]\n",
        "\tpredictions.append(yhat)\n",
        "\tobs = test[t]\n",
        "\thistory.append(obs)\n",
        "\t# print('predicted=%f, expected=%f' % (yhat, obs))\n",
        "# evaluate forecasts\n",
        "mae = mean_absolute_error(test, predictions)\n",
        "print('Test MAE: %.3f' % mae)\n",
        "# plot forecasts against actual outcomes\n",
        "plt.plot(test)\n",
        "plt.plot(predictions, color='red')\n",
        "plt.show()"
      ]
    },
    {
      "cell_type": "code",
      "source": [
        "from sklearn.metrics import mean_squared_error\n",
        "from math import sqrt\n",
        "#model_fit.forecast()\n",
        "sqrt(mean_squared_error(predictions,test))"
      ],
      "metadata": {
        "id": "DOGyv7EUXGHj"
      },
      "execution_count": null,
      "outputs": []
    },
    {
      "cell_type": "code",
      "source": [
        "index_future_dates = pd.date_range(start='2022-05-19', end='2022-06-19')\n",
        "pred = model_fit.forecast(steps=30)\n",
        "print(pred)"
      ],
      "metadata": {
        "id": "hNg5N4v0YVZB"
      },
      "execution_count": null,
      "outputs": []
    },
    {
      "cell_type": "code",
      "execution_count": null,
      "metadata": {
        "id": "bariebKUhcc5"
      },
      "outputs": [],
      "source": [
        "X = data['GBP'].values\n",
        "size = int(len(X) * 0.90)\n",
        "train, test = X[0:size], X[size:len(X)]\n",
        "traindf, testdf = data[0:size], data[size:len(X)]\n",
        "history = [x for x in train]\n",
        "predictions = list()\n",
        "# walk-forward validation\n",
        "for t in range(len(test)):\n",
        "\tmodel = ARIMA(history, order=(1,1,0))\n",
        "\tmodel_fit = model.fit()\n",
        "\toutput = model_fit.forecast()\n",
        "\tyhat = output[0]\n",
        "\tpredictions.append(yhat)\n",
        "\tobs = test[t]\n",
        "\thistory.append(obs)\n",
        "\t# print('predicted=%f, expected=%f' % (yhat, obs))\n",
        "# evaluate forecasts\n",
        "mae = mean_absolute_error(test, predictions)\n",
        "print('Test MAE: %.3f' % mae)\n",
        "# plot forecasts against actual outcomes\n",
        "plt.plot(test)\n",
        "plt.plot(predictions, color='red')\n",
        "plt.show()"
      ]
    },
    {
      "cell_type": "code",
      "source": [
        "model_fit.forecast()\n",
        "pred = model_fit.forecast(steps=30)\n",
        "print(pred)"
      ],
      "metadata": {
        "id": "6Z2hmK5FWpDa"
      },
      "execution_count": null,
      "outputs": []
    },
    {
      "cell_type": "code",
      "execution_count": null,
      "metadata": {
        "id": "cPwLwTSTPXp2"
      },
      "outputs": [],
      "source": [
        "mae5day = mean_absolute_error(testdf['BRL'], testdf['moving_avg_5day'])\n",
        "mae10day = mean_absolute_error(testdf['BRL'], testdf['moving_avg_10day'])\n",
        "mae15day = mean_absolute_error(testdf['BRL'], testdf['moving_avg_15day'])\n",
        "mae20day = mean_absolute_error(testdf['BRL'], testdf['moving_avg_20day'])"
      ]
    },
    {
      "cell_type": "code",
      "execution_count": null,
      "metadata": {
        "id": "8H_DPJELOuOl"
      },
      "outputs": [],
      "source": [
        "print(f'Mean absolute error from 5day moving average prediction: {mae5day}')\n",
        "print(f'Mean absolute error from 10day moving average prediction: {mae10day}')\n",
        "print(f'Mean absolute error from 15day moving average prediction: {mae15day}')\n",
        "print(f'Mean absolute error from 20day moving average prediction: {mae20day}')"
      ]
    },
    {
      "cell_type": "code",
      "execution_count": null,
      "metadata": {
        "id": "hAQoCDOchlWc"
      },
      "outputs": [],
      "source": [
        "mae5day = mean_absolute_error(testdf['GBP'], testdf['moving_avg_5day'])\n",
        "mae10day = mean_absolute_error(testdf['GBP'], testdf['moving_avg_10day'])\n",
        "mae15day = mean_absolute_error(testdf['GBP'], testdf['moving_avg_15day'])\n",
        "mae20day = mean_absolute_error(testdf['GBP'], testdf['moving_avg_20day'])"
      ]
    },
    {
      "cell_type": "code",
      "execution_count": null,
      "metadata": {
        "id": "O274R_8WhujL"
      },
      "outputs": [],
      "source": [
        "print(f'Mean absolute error from 5day moving average prediction: {mae5day}')\n",
        "print(f'Mean absolute error from 10day moving average prediction: {mae10day}')\n",
        "print(f'Mean absolute error from 15day moving average prediction: {mae15day}')\n",
        "print(f'Mean absolute error from 20day moving average prediction: {mae20day}')"
      ]
    },
    {
      "cell_type": "code",
      "source": [],
      "metadata": {
        "id": "INS2pGeaPIy4"
      },
      "execution_count": null,
      "outputs": []
    }
  ],
  "metadata": {
    "colab": {
      "provenance": [],
      "include_colab_link": true
    },
    "kernelspec": {
      "display_name": "Python 3",
      "name": "python3"
    },
    "language_info": {
      "name": "python"
    }
  },
  "nbformat": 4,
  "nbformat_minor": 0
}