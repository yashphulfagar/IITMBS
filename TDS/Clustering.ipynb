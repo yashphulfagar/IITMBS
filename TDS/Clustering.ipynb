{
  "nbformat": 4,
  "nbformat_minor": 0,
  "metadata": {
    "colab": {
      "provenance": [],
      "include_colab_link": true
    },
    "kernelspec": {
      "name": "python3",
      "display_name": "Python 3"
    },
    "language_info": {
      "name": "python"
    }
  },
  "cells": [
    {
      "cell_type": "markdown",
      "metadata": {
        "id": "view-in-github",
        "colab_type": "text"
      },
      "source": [
        "<a href=\"https://colab.research.google.com/github/yashphulfagar/IITMBS/blob/main/TDS/Clustering.ipynb\" target=\"_parent\"><img src=\"https://colab.research.google.com/assets/colab-badge.svg\" alt=\"Open In Colab\"/></a>"
      ]
    },
    {
      "cell_type": "markdown",
      "metadata": {
        "id": "LqLQs4n3OCpU"
      },
      "source": [
        "**Demo on k-Means clustering and cluster analysis**"
      ]
    },
    {
      "cell_type": "code",
      "metadata": {
        "id": "w5mr9dsIJeHj"
      },
      "source": [
        "import pandas as pd\n",
        "import numpy as np\n",
        "\n",
        "import matplotlib.pyplot as plt\n",
        "import seaborn as sns\n",
        "\n",
        "from sklearn.cluster import KMeans"
      ],
      "execution_count": null,
      "outputs": []
    },
    {
      "cell_type": "code",
      "metadata": {
        "id": "5U09h3L4JwIP"
      },
      "source": [
        "stockData = pd.read_csv('https://raw.githubusercontent.com/djcrow-instructor/datasets/main/StockDataWithoutClusters_v2.csv')"
      ],
      "execution_count": null,
      "outputs": []
    },
    {
      "cell_type": "code",
      "metadata": {
        "id": "FZtnluDGJxwv"
      },
      "source": [
        "stockData.head()"
      ],
      "execution_count": null,
      "outputs": []
    },
    {
      "cell_type": "code",
      "metadata": {
        "id": "sAFtEspoJ1WU"
      },
      "source": [
        "# All % columns were on a scale where 1 meant 100%, except for Stock Return %. We multiply all % columns (except Returns) by 100\n",
        "stockData['Free Float Market Cap %'] = stockData['Free Float Market Cap %']*100\n",
        "stockData['RoE %'] = stockData['RoE %']*100\n",
        "stockData['RoCE %'] = stockData['RoCE %']*100\n",
        "stockData['EBIT Margin %'] = stockData['EBIT Margin %']*100\n",
        "stockData['PAT %'] = stockData['PAT %']*100\n",
        "stockData.describe()"
      ],
      "execution_count": null,
      "outputs": []
    },
    {
      "cell_type": "code",
      "metadata": {
        "id": "-kWjaci0J58u"
      },
      "source": [
        "features = stockData.columns[2:]\n",
        "features"
      ],
      "execution_count": null,
      "outputs": []
    },
    {
      "cell_type": "code",
      "metadata": {
        "id": "OGZTFXBaJ9FU"
      },
      "source": [
        "# Good idea to normalize the features before k-Means\n",
        "from sklearn.preprocessing import MinMaxScaler\n",
        "\n",
        "scaler = MinMaxScaler()\n",
        "stockDataFeatures_scaled = scaler.fit_transform(stockData[features])\n",
        "stockDataFeatures_scaled = pd.DataFrame(stockDataFeatures_scaled, columns=features)\n",
        "stockDataFeatures_scaled.describe()"
      ],
      "execution_count": null,
      "outputs": []
    },
    {
      "cell_type": "code",
      "metadata": {
        "id": "GLrmINDVJ_Eq"
      },
      "source": [
        "kmeans = KMeans(7, n_jobs=-1)"
      ],
      "execution_count": null,
      "outputs": []
    },
    {
      "cell_type": "code",
      "metadata": {
        "id": "MBQ_KL97KFKa"
      },
      "source": [
        "clus = kmeans.fit_predict(stockDataFeatures_scaled)"
      ],
      "execution_count": null,
      "outputs": []
    },
    {
      "cell_type": "code",
      "metadata": {
        "id": "PdjJtPV-KJ-w"
      },
      "source": [
        "stockData['cluster'] = clus\n",
        "stockData['cluster'].value_counts()"
      ],
      "execution_count": null,
      "outputs": []
    },
    {
      "cell_type": "code",
      "metadata": {
        "id": "27sWvxqTKOnI"
      },
      "source": [
        "clusterDesc = pd.DataFrame(stockData.iloc[:,2:].groupby('cluster').mean().round(3))\n",
        "clusterDesc.insert(0,'size',stockData['cluster'].value_counts())"
      ],
      "execution_count": null,
      "outputs": []
    },
    {
      "cell_type": "code",
      "metadata": {
        "id": "2DZ8v0hkKQza"
      },
      "source": [
        "clusterDesc"
      ],
      "execution_count": null,
      "outputs": []
    },
    {
      "cell_type": "code",
      "metadata": {
        "id": "SGWgHtCZKUci"
      },
      "source": [],
      "execution_count": null,
      "outputs": []
    }
  ]
}